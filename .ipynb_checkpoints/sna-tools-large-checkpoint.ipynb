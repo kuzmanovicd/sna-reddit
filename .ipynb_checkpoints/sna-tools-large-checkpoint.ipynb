{
 "cells": [
  {
   "cell_type": "code",
   "execution_count": 1,
   "metadata": {},
   "outputs": [],
   "source": [
    "%matplotlib notebook\n",
    "import pandas as pd\n",
    "import numpy as np\n",
    "import networkx as nx\n",
    "import matplotlib.pyplot as plt\n",
    "import json, time, datetime, math\n",
    "import operator\n",
    "\n",
    "now = datetime.datetime.now()\n",
    "ROOT_PATH = 'data/'\n",
    "DATA_PATH = '-'.join(str(x) for x in [(now.year), now.month, now.day])\n",
    "LOAD_DATA_PATH = '2018-2-6'\n",
    "\n",
    "def sorted_map(map):\n",
    "    ms = sorted(map.items(), key=operator.itemgetter(1), reverse=True)\n",
    "    return ms\n",
    "\n",
    "def sorted_df(cen):\n",
    "    return pd.DataFrame(sorted(cen.items(), key=operator.itemgetter(1), reverse=True))\n",
    "\n",
    "def print_progress(iteration, total, prefix = '', suffix = '', decimals = 1, length = 100, errors = 0, fill = '+'):\n",
    "    \"\"\"\n",
    "    Call in a loop to create terminal progress bar\n",
    "    @params:\n",
    "        iteration   - Required  : current iteration (Int)\n",
    "        total       - Required  : total iterations (Int)\n",
    "        prefix      - Optional  : prefix string (Str)\n",
    "        suffix      - Optional  : suffix string (Str)\n",
    "        decimals    - Optional  : positive number of decimals in percent complete (Int)\n",
    "        length      - Optional  : character length of bar (Int)\n",
    "        fill        - Optional  : bar fill character (Str)\n",
    "    \"\"\"\n",
    "    percent = (\"{0:.\" + str(decimals) + \"f}\").format(100 * (iteration / float(total)))\n",
    "    filledLength = int(length * iteration // total)\n",
    "    bar = fill * filledLength + '-' * (length - filledLength)\n",
    "    print('\\r%s |%s| %s%% %s - errors: %s' % (prefix, bar, percent, suffix, errors), end = '\\r')\n",
    "    # Print New Line on Complete\n",
    "    if iteration == (total - 2): \n",
    "        print()"
   ]
  },
  {
   "cell_type": "code",
   "execution_count": 21,
   "metadata": {},
   "outputs": [],
   "source": [
    "submissions = pd.read_pickle(ROOT_PATH + LOAD_DATA_PATH + '/' + 'submissions.pkl').query('subreddit!=\"garlicoin\"')\n",
    "comments = pd.read_pickle(ROOT_PATH + LOAD_DATA_PATH + '/' + 'comments.pkl').query('subreddit!=\"garlicoin\"')\n",
    "comments[['parent_type','parent_id']] = comments['parent_id'].str.split('_',expand=True)"
   ]
  },
  {
   "cell_type": "code",
   "execution_count": 22,
   "metadata": {},
   "outputs": [],
   "source": [
    "comments = comments.query('author != \"[deleted]\"').reset_index(drop=True)"
   ]
  },
  {
   "cell_type": "code",
   "execution_count": 23,
   "metadata": {},
   "outputs": [
    {
     "name": "stdout",
     "output_type": "stream",
     "text": [
      "<class 'pandas.core.frame.DataFrame'>\n",
      "RangeIndex: 242121 entries, 0 to 242120\n",
      "Data columns (total 1 columns):\n",
      "author    242121 non-null object\n",
      "dtypes: object(1)\n",
      "memory usage: 1.8+ MB\n",
      "num_comments: 1172934\n",
      "num_links: 540112\n",
      "total: 1713046\n"
     ]
    }
   ],
   "source": [
    "authors_1 = pd.DataFrame({\n",
    "    'author': submissions['author']\n",
    "})\n",
    "\n",
    "authors_2 = pd.DataFrame({\n",
    "    'author': comments['author']\n",
    "}) \n",
    "\n",
    "authors = pd.concat([authors_1, authors_2]).drop_duplicates().reset_index(drop=True)\n",
    "authors.info()\n",
    "\n",
    "print('num_comments:', comments.query('parent_type==\"t1\"')['parent_type'].count())\n",
    "print('num_links:', comments.query('parent_type==\"t3\"')['parent_type'].count())\n",
    "print('total:', comments['id'].count())\n",
    "\n",
    "#625480"
   ]
  },
  {
   "cell_type": "code",
   "execution_count": 24,
   "metadata": {},
   "outputs": [
    {
     "data": {
      "text/plain": [
       "Index(['author_left', 'author_right', 'score_left', 'id_left', 'id_right',\n",
       "       'subreddit', 'weight', 'type'],\n",
       "      dtype='object')"
      ]
     },
     "execution_count": 24,
     "metadata": {},
     "output_type": "execute_result"
    }
   ],
   "source": [
    "edges_sub = pd.merge(\n",
    "    comments[comments['parent_type'] == 't3'].reset_index(),\n",
    "    submissions, \n",
    "    left_on='parent_id', \n",
    "    right_on='id', \n",
    "    how='left', \n",
    "    suffixes=('_left', '_right')\n",
    ")\n",
    "edges_sub = edges_sub.query('author_left != \"[deleted]\" & author_right != \"[deleted]\"').reset_index(drop=True)\n",
    "edges_sub = edges_sub.query('author_left != author_right').reset_index(drop=True)\n",
    "edge_fields_sub = ['author_left', 'author_right', 'score_left', 'id_left', 'id_right', 'subreddit_left']\n",
    "edges_sub = edges_sub[edge_fields_sub]\n",
    "edges_sub['weight'] = edges_sub['score_left']\n",
    "edges_sub['type'] = 'com_on_sub'\n",
    "edges_sub = edges_sub.rename(columns={'subreddit_left': 'subreddit'})\n",
    "edges_sub.columns"
   ]
  },
  {
   "cell_type": "code",
   "execution_count": 25,
   "metadata": {},
   "outputs": [
    {
     "data": {
      "text/plain": [
       "Index(['author_left', 'author_right', 'score_left', 'id_left', 'id_right',\n",
       "       'subreddit', 'weight', 'type'],\n",
       "      dtype='object')"
      ]
     },
     "execution_count": 25,
     "metadata": {},
     "output_type": "execute_result"
    }
   ],
   "source": [
    "edges_com = pd.merge(\n",
    "    comments[comments['parent_type'] == 't1'].reset_index(), \n",
    "    comments, \n",
    "    left_on='parent_id', \n",
    "    right_on='id', \n",
    "    how='left', \n",
    "    suffixes=('_left', '_right')\n",
    ")\n",
    "\n",
    "edge_fields = ['author_left', 'author_right', 'score_left', 'id_left', 'id_right', 'subreddit_left']\n",
    "edges_com = edges_com[edge_fields]\n",
    "edges_com['weight'] = edges_com['score_left']\n",
    "edges_com['type'] = 'com_on_com'\n",
    "edges_com = edges_com.rename(columns={'subreddit_left': 'subreddit'})\n",
    "edges_com.columns"
   ]
  },
  {
   "cell_type": "code",
   "execution_count": 7,
   "metadata": {},
   "outputs": [
    {
     "name": "stdout",
     "output_type": "stream",
     "text": [
      "    author_left          author_right\n",
      "0    taddraughn  SuperficialPickle444\n",
      "1      Sprint99  SuperficialPickle444\n",
      "2  ianufyrebird  SuperficialPickle444\n",
      "3     Nrimelman  SuperficialPickle444\n",
      "4    Gabe121411  SuperficialPickle444\n",
      "  author_left  author_right\n",
      "0   garlicbot    taddraughn\n",
      "1   garlicbot      Sprint99\n",
      "2   garlicbot  ianufyrebird\n",
      "3   garlicbot           NaN\n",
      "4  taddraughn    taddraughn\n",
      "Index(['author_left', 'author_right', 'score_left', 'id_left', 'id_right',\n",
      "       'subreddit', 'weight', 'type'],\n",
      "      dtype='object')\n",
      "\n",
      "Index(['author_left', 'author_right', 'score_left', 'id_left', 'id_right',\n",
      "       'subreddit', 'weight', 'type'],\n",
      "      dtype='object')\n"
     ]
    }
   ],
   "source": [
    "#edges_com = edges_com[0:10][['author_left', 'author_right']]\n",
    "print(edges_sub[0:5][['author_left', 'author_right']])\n",
    "\n",
    "print(edges_com[0:5][['author_left', 'author_right']])\n",
    "#print(edges_com[['author_left', 'author_right']].query('author_right'))\n",
    "print(edges_sub.columns)\n",
    "print()\n",
    "print(edges_com.columns)\n",
    "#print(comments.sort_values(by='score', ascending=False)[-50:-1]['score'])\n",
    "\n",
    "#comments.subreddit.unique()"
   ]
  },
  {
   "cell_type": "code",
   "execution_count": 26,
   "metadata": {},
   "outputs": [
    {
     "name": "stdout",
     "output_type": "stream",
     "text": [
      "Name: \n",
      "Type: MultiDiGraph\n",
      "Number of nodes: 226406\n",
      "Number of edges: 1691975\n",
      "Average in degree:   7.4732\n",
      "Average out degree:   7.4732\n"
     ]
    }
   ],
   "source": [
    "g = nx.from_pandas_dataframe(\n",
    "    pd.concat([edges_sub, edges_com], ignore_index=True), \n",
    "    'author_left', \n",
    "    'author_right', \n",
    "    ['weight', 'score_left', 'id_left', 'id_right', 'subreddit', 'type'], \n",
    "    create_using=nx.MultiDiGraph()\n",
    ")\n",
    "print(nx.info(g))"
   ]
  },
  {
   "cell_type": "code",
   "execution_count": 27,
   "metadata": {},
   "outputs": [
    {
     "name": "stdout",
     "output_type": "stream",
     "text": [
      "--------------------------------------------------\n",
      "                      0         1\n",
      "0         AutoModerator  0.032212\n",
      "1                   NaN  0.029991\n",
      "2                  mvea  0.025552\n",
      "3                 tippr  0.024500\n",
      "4                 b1tcc  0.022305\n",
      "5           rBitcoinMod  0.020583\n",
      "6               Z_staff  0.019333\n",
      "7            mungojelly  0.016559\n",
      "8                 fabwa  0.015344\n",
      "9  DestroyerOfShitcoins  0.014956\n"
     ]
    }
   ],
   "source": [
    "deg_cen = sorted_df(nx.degree_centrality(g))\n",
    "print(50*'-')\n",
    "print(deg_cen[0:10])"
   ]
  },
  {
   "cell_type": "markdown",
   "metadata": {},
   "source": [
    "*PageRank top users*"
   ]
  },
  {
   "cell_type": "code",
   "execution_count": 28,
   "metadata": {},
   "outputs": [
    {
     "name": "stdout",
     "output_type": "stream",
     "text": [
      "                       0         1\n",
      "0                   mvea  0.004880\n",
      "1                Z_staff  0.004077\n",
      "2                 speckz  0.001801\n",
      "3            rBitcoinMod  0.001589\n",
      "4                 Amidza  0.001582\n",
      "5                    NaN  0.001288\n",
      "6                  b1tcc  0.001089\n",
      "7         pixel-gamer-3D  0.000955\n",
      "8                  fabwa  0.000926\n",
      "9             AdamCannon  0.000872\n",
      "10           maxwellhill  0.000739\n",
      "11       HudsonRiverLine  0.000696\n",
      "12        MichaelRahmani  0.000674\n",
      "13                 tag65  0.000666\n",
      "14             BluntLord  0.000645\n",
      "15   A_Internet_Stranger  0.000624\n",
      "16           AzzIRATIBOY  0.000588\n",
      "17         Gabriel-Lewis  0.000576\n",
      "18          delumstudios  0.000557\n",
      "19      acacia-club-road  0.000552\n",
      "20       Elementz_Reborn  0.000517\n",
      "21            ttminh1997  0.000506\n",
      "22             iAmTheTot  0.000503\n",
      "23             lriccardo  0.000503\n",
      "24            TheBomber9  0.000486\n",
      "25        GloriousGe0rge  0.000468\n",
      "26            Scary_Wasp  0.000467\n",
      "27               kushari  0.000453\n",
      "28        HoboLicker5000  0.000437\n",
      "29            CyanFlare_  0.000423\n",
      "30  DestroyerOfShitcoins  0.000423\n",
      "31                 B3nGG  0.000415\n",
      "32  ZandaTheBigBluePanda  0.000411\n",
      "33            arsonbunny  0.000409\n",
      "34              Quiglius  0.000403\n",
      "35              denis177  0.000397\n",
      "36              troyretz  0.000396\n",
      "37            the4saken1  0.000371\n",
      "38              Dreamare  0.000365\n",
      "39     fightforthefuture  0.000363\n",
      "40  Get_Back_To_Work_Now  0.000358\n",
      "41               aelchim  0.000352\n",
      "42              Rackheim  0.000344\n",
      "43         guenter_claus  0.000335\n",
      "44            eclipsegum  0.000328\n",
      "45            sumphatguy  0.000324\n",
      "46             jake15151  0.000323\n",
      "47               ZRodri8  0.000322\n",
      "48        SeptemberVirgo  0.000321\n",
      "49          Tricky_Troll  0.000320\n"
     ]
    }
   ],
   "source": [
    "page_rank = sorted_df(nx.pagerank_scipy(g, alpha=0.6))\n",
    "print(page_rank[0:50])"
   ]
  },
  {
   "cell_type": "code",
   "execution_count": 29,
   "metadata": {},
   "outputs": [
    {
     "name": "stdout",
     "output_type": "stream",
     "text": [
      "--------------------------------------------------\n",
      "                       0         1\n",
      "0          AutoModerator  0.024189\n",
      "1   DestroyerOfShitcoins  0.011032\n",
      "2               Aceionic  0.009475\n",
      "3                kushari  0.009022\n",
      "4   Get_Back_To_Work_Now  0.008530\n",
      "5                Z_staff  0.007485\n",
      "6              lriccardo  0.007026\n",
      "7            Win10isLord  0.006892\n",
      "8            RemindMeBot  0.006390\n",
      "9              nesnalica  0.006034\n",
      "10           WikiTextBot  0.006027\n",
      "11            Combatical  0.005797\n",
      "12                Amidza  0.005676\n",
      "13         unitedstatian  0.005174\n",
      "14  Reacher-Said-Nothing  0.004982\n",
      "15           Tharsis-evo  0.004928\n",
      "16           TiltMastery  0.004927\n",
      "17      CattusKittekatus  0.004836\n",
      "18            KnifeOfPi2  0.004786\n",
      "19          Chumbag_love  0.004746\n",
      "20            Bacon_Hero  0.004700\n",
      "21            Vertigo722  0.004532\n",
      "22            arsonbunny  0.004515\n",
      "23                 b1tcc  0.004425\n",
      "24       HudsonRiverLine  0.004358\n",
      "25               btcftw1  0.004267\n",
      "26          theivoryserf  0.004117\n",
      "27  2481632641282565121k  0.004077\n",
      "28          Haramburglar  0.004041\n",
      "29           rBitcoinMod  0.004036\n",
      "30     visathrowaway1234  0.003988\n",
      "31            BTCMONSTER  0.003967\n",
      "32   A_Internet_Stranger  0.003957\n",
      "33            mungojelly  0.003943\n",
      "34                 6-O-9  0.003916\n",
      "35                 Naivy  0.003866\n",
      "36       throwawayTooFit  0.003765\n",
      "37                SAKUJ0  0.003755\n",
      "38              jessquit  0.003703\n",
      "39              dani0100  0.003680\n",
      "40     All_Work_All_Play  0.003671\n",
      "41    cryptomantothemoon  0.003641\n",
      "42              Fulvio55  0.003595\n",
      "43                Wutanf  0.003574\n",
      "44          lekryptoking  0.003400\n",
      "45                 B3nGG  0.003374\n",
      "46               OneMoar  0.003331\n",
      "47            eclipsegum  0.003311\n",
      "48             abid-1111  0.003305\n",
      "49                  dnew  0.003263\n"
     ]
    }
   ],
   "source": [
    "betweenness_cen = sorted_df(nx.betweenness_centrality(g, k=256, weight='weight'))\n",
    "print(50*'-')\n",
    "print(betweenness_cen[0:50])\n",
    "#betweenness_cen.to_pickle(ROOT_PATH + LOAD_DATA_PATH + '/' + 'betweenness_large.pkl')"
   ]
  },
  {
   "cell_type": "code",
   "execution_count": 35,
   "metadata": {},
   "outputs": [],
   "source": [
    "betweenness_cen = pd.read_pickle(ROOT_PATH + LOAD_DATA_PATH + '/' + 'betweenness_large.pkl')"
   ]
  },
  {
   "cell_type": "code",
   "execution_count": null,
   "metadata": {},
   "outputs": [],
   "source": []
  }
 ],
 "metadata": {
  "kernelspec": {
   "display_name": "Python 3",
   "language": "python",
   "name": "python3"
  },
  "language_info": {
   "codemirror_mode": {
    "name": "ipython",
    "version": 3
   },
   "file_extension": ".py",
   "mimetype": "text/x-python",
   "name": "python",
   "nbconvert_exporter": "python",
   "pygments_lexer": "ipython3",
   "version": "3.6.3"
  }
 },
 "nbformat": 4,
 "nbformat_minor": 2
}
