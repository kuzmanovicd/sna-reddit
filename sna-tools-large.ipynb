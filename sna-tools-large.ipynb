{
 "cells": [
  {
   "cell_type": "code",
   "execution_count": 1,
   "metadata": {},
   "outputs": [],
   "source": [
    "%matplotlib notebook\n",
    "import pandas as pd\n",
    "import numpy as np\n",
    "import networkx as nx\n",
    "import matplotlib.pyplot as plt\n",
    "import json, time, datetime, math\n",
    "import operator\n",
    "\n",
    "now = datetime.datetime.now()\n",
    "ROOT_PATH = 'data/'\n",
    "DATA_PATH = '-'.join(str(x) for x in [(now.year), now.month, now.day])\n",
    "LOAD_DATA_PATH = '2018-2-6'\n",
    "\n",
    "def sorted_map(map):\n",
    "    ms = sorted(map.items(), key=operator.itemgetter(1), reverse=True)\n",
    "    return ms\n",
    "\n",
    "def sorted_df(cen):\n",
    "    return pd.DataFrame(sorted(cen.items(), key=operator.itemgetter(1), reverse=True))\n",
    "\n",
    "def print_progress(iteration, total, prefix = '', suffix = '', decimals = 1, length = 100, errors = 0, fill = '+'):\n",
    "    \"\"\"\n",
    "    Call in a loop to create terminal progress bar\n",
    "    @params:\n",
    "        iteration   - Required  : current iteration (Int)\n",
    "        total       - Required  : total iterations (Int)\n",
    "        prefix      - Optional  : prefix string (Str)\n",
    "        suffix      - Optional  : suffix string (Str)\n",
    "        decimals    - Optional  : positive number of decimals in percent complete (Int)\n",
    "        length      - Optional  : character length of bar (Int)\n",
    "        fill        - Optional  : bar fill character (Str)\n",
    "    \"\"\"\n",
    "    percent = (\"{0:.\" + str(decimals) + \"f}\").format(100 * (iteration / float(total)))\n",
    "    filledLength = int(length * iteration // total)\n",
    "    bar = fill * filledLength + '-' * (length - filledLength)\n",
    "    print('\\r%s |%s| %s%% %s - errors: %s' % (prefix, bar, percent, suffix, errors), end = '\\r')\n",
    "    # Print New Line on Complete\n",
    "    if iteration == (total - 2): \n",
    "        print()"
   ]
  },
  {
   "cell_type": "code",
   "execution_count": 21,
   "metadata": {},
   "outputs": [],
   "source": [
    "submissions = pd.read_pickle(ROOT_PATH + LOAD_DATA_PATH + '/' + 'submissions.pkl').query('subreddit!=\"garlicoin\"')\n",
    "comments = pd.read_pickle(ROOT_PATH + LOAD_DATA_PATH + '/' + 'comments.pkl').query('subreddit!=\"garlicoin\"')\n",
    "comments[['parent_type','parent_id']] = comments['parent_id'].str.split('_',expand=True)"
   ]
  },
  {
   "cell_type": "code",
   "execution_count": 22,
   "metadata": {},
   "outputs": [],
   "source": [
    "comments = comments.query('author != \"[deleted]\"').reset_index(drop=True)"
   ]
  },
  {
   "cell_type": "code",
   "execution_count": 23,
   "metadata": {},
   "outputs": [
    {
     "name": "stdout",
     "output_type": "stream",
     "text": [
      "<class 'pandas.core.frame.DataFrame'>\n",
      "RangeIndex: 242121 entries, 0 to 242120\n",
      "Data columns (total 1 columns):\n",
      "author    242121 non-null object\n",
      "dtypes: object(1)\n",
      "memory usage: 1.8+ MB\n",
      "num_comments: 1172934\n",
      "num_links: 540112\n",
      "total: 1713046\n"
     ]
    }
   ],
   "source": [
    "authors_1 = pd.DataFrame({\n",
    "    'author': submissions['author']\n",
    "})\n",
    "\n",
    "authors_2 = pd.DataFrame({\n",
    "    'author': comments['author']\n",
    "}) \n",
    "\n",
    "authors = pd.concat([authors_1, authors_2]).drop_duplicates().reset_index(drop=True)\n",
    "authors.info()\n",
    "\n",
    "print('num_comments:', comments.query('parent_type==\"t1\"')['parent_type'].count())\n",
    "print('num_links:', comments.query('parent_type==\"t3\"')['parent_type'].count())\n",
    "print('total:', comments['id'].count())\n",
    "\n",
    "#625480"
   ]
  },
  {
   "cell_type": "code",
   "execution_count": 24,
   "metadata": {},
   "outputs": [
    {
     "data": {
      "text/plain": [
       "Index(['author_left', 'author_right', 'score_left', 'id_left', 'id_right',\n",
       "       'subreddit', 'weight', 'type'],\n",
       "      dtype='object')"
      ]
     },
     "execution_count": 24,
     "metadata": {},
     "output_type": "execute_result"
    }
   ],
   "source": [
    "edges_sub = pd.merge(\n",
    "    comments[comments['parent_type'] == 't3'].reset_index(),\n",
    "    submissions, \n",
    "    left_on='parent_id', \n",
    "    right_on='id', \n",
    "    how='left', \n",
    "    suffixes=('_left', '_right')\n",
    ")\n",
    "edges_sub = edges_sub.query('author_left != \"[deleted]\" & author_right != \"[deleted]\"').reset_index(drop=True)\n",
    "edges_sub = edges_sub.query('author_left != author_right').reset_index(drop=True)\n",
    "edge_fields_sub = ['author_left', 'author_right', 'score_left', 'id_left', 'id_right', 'subreddit_left']\n",
    "edges_sub = edges_sub[edge_fields_sub]\n",
    "edges_sub['weight'] = edges_sub['score_left']\n",
    "edges_sub['type'] = 'com_on_sub'\n",
    "edges_sub = edges_sub.rename(columns={'subreddit_left': 'subreddit'})\n",
    "edges_sub.columns"
   ]
  },
  {
   "cell_type": "code",
   "execution_count": 25,
   "metadata": {},
   "outputs": [
    {
     "data": {
      "text/plain": [
       "Index(['author_left', 'author_right', 'score_left', 'id_left', 'id_right',\n",
       "       'subreddit', 'weight', 'type'],\n",
       "      dtype='object')"
      ]
     },
     "execution_count": 25,
     "metadata": {},
     "output_type": "execute_result"
    }
   ],
   "source": [
    "edges_com = pd.merge(\n",
    "    comments[comments['parent_type'] == 't1'].reset_index(), \n",
    "    comments, \n",
    "    left_on='parent_id', \n",
    "    right_on='id', \n",
    "    how='left', \n",
    "    suffixes=('_left', '_right')\n",
    ")\n",
    "\n",
    "edge_fields = ['author_left', 'author_right', 'score_left', 'id_left', 'id_right', 'subreddit_left']\n",
    "edges_com = edges_com[edge_fields]\n",
    "edges_com['weight'] = edges_com['score_left']\n",
    "edges_com['type'] = 'com_on_com'\n",
    "edges_com = edges_com.rename(columns={'subreddit_left': 'subreddit'})\n",
    "edges_com.columns"
   ]
  },
  {
   "cell_type": "code",
   "execution_count": 7,
   "metadata": {},
   "outputs": [
    {
     "name": "stdout",
     "output_type": "stream",
     "text": [
      "    author_left          author_right\n",
      "0    taddraughn  SuperficialPickle444\n",
      "1      Sprint99  SuperficialPickle444\n",
      "2  ianufyrebird  SuperficialPickle444\n",
      "3     Nrimelman  SuperficialPickle444\n",
      "4    Gabe121411  SuperficialPickle444\n",
      "  author_left  author_right\n",
      "0   garlicbot    taddraughn\n",
      "1   garlicbot      Sprint99\n",
      "2   garlicbot  ianufyrebird\n",
      "3   garlicbot           NaN\n",
      "4  taddraughn    taddraughn\n",
      "Index(['author_left', 'author_right', 'score_left', 'id_left', 'id_right',\n",
      "       'subreddit', 'weight', 'type'],\n",
      "      dtype='object')\n",
      "\n",
      "Index(['author_left', 'author_right', 'score_left', 'id_left', 'id_right',\n",
      "       'subreddit', 'weight', 'type'],\n",
      "      dtype='object')\n"
     ]
    }
   ],
   "source": [
    "#edges_com = edges_com[0:10][['author_left', 'author_right']]\n",
    "print(edges_sub[0:5][['author_left', 'author_right']])\n",
    "\n",
    "print(edges_com[0:5][['author_left', 'author_right']])\n",
    "#print(edges_com[['author_left', 'author_right']].query('author_right'))\n",
    "print(edges_sub.columns)\n",
    "print()\n",
    "print(edges_com.columns)\n",
    "#print(comments.sort_values(by='score', ascending=False)[-50:-1]['score'])\n",
    "\n",
    "#comments.subreddit.unique()"
   ]
  },
  {
   "cell_type": "code",
   "execution_count": 26,
   "metadata": {},
   "outputs": [
    {
     "name": "stdout",
     "output_type": "stream",
     "text": [
      "Name: \n",
      "Type: MultiDiGraph\n",
      "Number of nodes: 226406\n",
      "Number of edges: 1691975\n",
      "Average in degree:   7.4732\n",
      "Average out degree:   7.4732\n"
     ]
    }
   ],
   "source": [
    "g = nx.from_pandas_dataframe(\n",
    "    pd.concat([edges_sub, edges_com], ignore_index=True), \n",
    "    'author_left', \n",
    "    'author_right', \n",
    "    ['weight', 'score_left', 'id_left', 'id_right', 'subreddit', 'type'], \n",
    "    create_using=nx.MultiDiGraph()\n",
    ")\n",
    "print(nx.info(g))"
   ]
  },
  {
   "cell_type": "code",
   "execution_count": 27,
   "metadata": {},
   "outputs": [
    {
     "name": "stdout",
     "output_type": "stream",
     "text": [
      "--------------------------------------------------\n",
      "                      0         1\n",
      "0         AutoModerator  0.032212\n",
      "1                   NaN  0.029991\n",
      "2                  mvea  0.025552\n",
      "3                 tippr  0.024500\n",
      "4                 b1tcc  0.022305\n",
      "5           rBitcoinMod  0.020583\n",
      "6               Z_staff  0.019333\n",
      "7            mungojelly  0.016559\n",
      "8                 fabwa  0.015344\n",
      "9  DestroyerOfShitcoins  0.014956\n"
     ]
    }
   ],
   "source": [
    "deg_cen = sorted_df(nx.degree_centrality(g))\n",
    "print(50*'-')\n",
    "print(deg_cen[0:10])"
   ]
  },
  {
   "cell_type": "markdown",
   "metadata": {},
   "source": [
    "*PageRank top users*"
   ]
  },
  {
   "cell_type": "code",
   "execution_count": 28,
   "metadata": {},
   "outputs": [
    {
     "name": "stdout",
     "output_type": "stream",
     "text": [
      "                       0         1\n",
      "0                   mvea  0.004880\n",
      "1                Z_staff  0.004077\n",
      "2                 speckz  0.001801\n",
      "3            rBitcoinMod  0.001589\n",
      "4                 Amidza  0.001582\n",
      "5                    NaN  0.001288\n",
      "6                  b1tcc  0.001089\n",
      "7         pixel-gamer-3D  0.000955\n",
      "8                  fabwa  0.000926\n",
      "9             AdamCannon  0.000872\n",
      "10           maxwellhill  0.000739\n",
      "11       HudsonRiverLine  0.000696\n",
      "12        MichaelRahmani  0.000674\n",
      "13                 tag65  0.000666\n",
      "14             BluntLord  0.000645\n",
      "15   A_Internet_Stranger  0.000624\n",
      "16           AzzIRATIBOY  0.000588\n",
      "17         Gabriel-Lewis  0.000576\n",
      "18          delumstudios  0.000557\n",
      "19      acacia-club-road  0.000552\n",
      "20       Elementz_Reborn  0.000517\n",
      "21            ttminh1997  0.000506\n",
      "22             iAmTheTot  0.000503\n",
      "23             lriccardo  0.000503\n",
      "24            TheBomber9  0.000486\n",
      "25        GloriousGe0rge  0.000468\n",
      "26            Scary_Wasp  0.000467\n",
      "27               kushari  0.000453\n",
      "28        HoboLicker5000  0.000437\n",
      "29            CyanFlare_  0.000423\n",
      "30  DestroyerOfShitcoins  0.000423\n",
      "31                 B3nGG  0.000415\n",
      "32  ZandaTheBigBluePanda  0.000411\n",
      "33            arsonbunny  0.000409\n",
      "34              Quiglius  0.000403\n",
      "35              denis177  0.000397\n",
      "36              troyretz  0.000396\n",
      "37            the4saken1  0.000371\n",
      "38              Dreamare  0.000365\n",
      "39     fightforthefuture  0.000363\n",
      "40  Get_Back_To_Work_Now  0.000358\n",
      "41               aelchim  0.000352\n",
      "42              Rackheim  0.000344\n",
      "43         guenter_claus  0.000335\n",
      "44            eclipsegum  0.000328\n",
      "45            sumphatguy  0.000324\n",
      "46             jake15151  0.000323\n",
      "47               ZRodri8  0.000322\n",
      "48        SeptemberVirgo  0.000321\n",
      "49          Tricky_Troll  0.000320\n"
     ]
    }
   ],
   "source": [
    "page_rank = sorted_df(nx.pagerank_scipy(g, alpha=0.6))\n",
    "print(page_rank[0:50])"
   ]
  },
  {
   "cell_type": "code",
   "execution_count": 12,
   "metadata": {},
   "outputs": [
    {
     "name": "stdout",
     "output_type": "stream",
     "text": [
      "                       0         1\n",
      "0   SuperficialPickle444  0.024455\n",
      "1             CaseyDafuq  0.011067\n",
      "2      DigitalizedOrange  0.008305\n",
      "3              ranjiruku  0.007619\n",
      "4                 F4rg0_  0.007612\n",
      "5               MegaOhms  0.007594\n",
      "6              imightmax  0.007593\n",
      "7         emperoraugusto  0.007593\n",
      "8                   mvea  0.003787\n",
      "9             skyler4722  0.003668\n",
      "10   Religion__of__Peace  0.003203\n",
      "11               Z_staff  0.002425\n",
      "12            AdamCannon  0.001747\n",
      "13                   NaN  0.001585\n",
      "14           rBitcoinMod  0.001542\n",
      "15           remi9martin  0.001469\n",
      "16                Amidza  0.001293\n",
      "17         stansellj1983  0.001256\n",
      "18                 b1tcc  0.001215\n",
      "19                 fabwa  0.001171\n",
      "20            Darksirius  0.001169\n",
      "21                speckz  0.001162\n",
      "22         ButtsOfficial  0.001145\n",
      "23            Chichigami  0.001093\n",
      "24       I_PUNCH_INFANTS  0.001032\n",
      "25     ChopBangBuzzDylan  0.000902\n",
      "26           kevindongyt  0.000848\n",
      "27                 tag65  0.000835\n",
      "28    AcceptableFeedback  0.000741\n",
      "29       CryptoChatForum  0.000727\n",
      "30  ZandaTheBigBluePanda  0.000710\n",
      "31           AzzIRATIBOY  0.000684\n",
      "32              MineDrac  0.000684\n",
      "33           maxwellhill  0.000676\n",
      "34          Idavoiduinrl  0.000666\n",
      "35        pixel-gamer-3D  0.000658\n",
      "36        MichaelRahmani  0.000643\n",
      "37  DestroyerOfShitcoins  0.000551\n",
      "38               Retosen  0.000548\n",
      "39        CitricCapybara  0.000528\n",
      "40  Get_Back_To_Work_Now  0.000521\n",
      "41                ezio45  0.000506\n",
      "42               ZRodri8  0.000496\n",
      "43             BluntLord  0.000482\n",
      "44         Gabriel-Lewis  0.000460\n",
      "45               rcmaehl  0.000456\n",
      "46         obviouslygwlb  0.000455\n",
      "47            TheBomber9  0.000452\n",
      "48     watch_more_C-SPAN  0.000450\n",
      "49              troyretz  0.000449\n"
     ]
    }
   ],
   "source": []
  },
  {
   "cell_type": "code",
   "execution_count": null,
   "metadata": {},
   "outputs": [],
   "source": [
    "betweenness_cen = sorted_df(nx.betweenness_centrality(g, k=256, weight='weight'))\n",
    "print(50*'-')\n",
    "print(betweenness_cen[0:50])\n",
    "betweenness_cen.to_pickle(ROOT_PATH + LOAD_DATA_PATH + '/' + 'betweenness_large.pkl')"
   ]
  }
 ],
 "metadata": {
  "kernelspec": {
   "display_name": "Python 3",
   "language": "python",
   "name": "python3"
  },
  "language_info": {
   "codemirror_mode": {
    "name": "ipython",
    "version": 3
   },
   "file_extension": ".py",
   "mimetype": "text/x-python",
   "name": "python",
   "nbconvert_exporter": "python",
   "pygments_lexer": "ipython3",
   "version": "3.6.3"
  }
 },
 "nbformat": 4,
 "nbformat_minor": 2
}
