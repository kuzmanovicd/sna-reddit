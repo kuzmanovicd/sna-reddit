{
 "cells": [
  {
   "cell_type": "code",
   "execution_count": 1,
   "metadata": {},
   "outputs": [],
   "source": [
    "%matplotlib notebook\n",
    "import pandas as pd\n",
    "import numpy as np\n",
    "import networkx as nx\n",
    "import matplotlib.pyplot as plt\n",
    "import json, time, datetime, math\n",
    "import operator\n",
    "\n",
    "now = datetime.datetime.now()\n",
    "ROOT_PATH = 'data/'\n",
    "DATA_PATH = '-'.join(str(x) for x in [(now.year), now.month, now.day])\n",
    "LOAD_DATA_PATH = '2018-2-6'\n",
    "\n",
    "def sorted_map(map):\n",
    "    ms = sorted(map.items(), key=operator.itemgetter(1), reverse=True)\n",
    "    return ms\n",
    "\n",
    "def sorted_df(cen):\n",
    "    return pd.DataFrame(sorted(cen.items(), key=operator.itemgetter(1), reverse=True))\n",
    "\n",
    "def print_progress(iteration, total, prefix = '', suffix = '', decimals = 1, length = 100, errors = 0, fill = '+'):\n",
    "    \"\"\"\n",
    "    Call in a loop to create terminal progress bar\n",
    "    @params:\n",
    "        iteration   - Required  : current iteration (Int)\n",
    "        total       - Required  : total iterations (Int)\n",
    "        prefix      - Optional  : prefix string (Str)\n",
    "        suffix      - Optional  : suffix string (Str)\n",
    "        decimals    - Optional  : positive number of decimals in percent complete (Int)\n",
    "        length      - Optional  : character length of bar (Int)\n",
    "        fill        - Optional  : bar fill character (Str)\n",
    "    \"\"\"\n",
    "    percent = (\"{0:.\" + str(decimals) + \"f}\").format(100 * (iteration / float(total)))\n",
    "    filledLength = int(length * iteration // total)\n",
    "    bar = fill * filledLength + '-' * (length - filledLength)\n",
    "    print('\\r%s |%s| %s%% %s - errors: %s' % (prefix, bar, percent, suffix, errors), end = '\\r')\n",
    "    # Print New Line on Complete\n",
    "    if iteration == (total - 2): \n",
    "        print()"
   ]
  },
  {
   "cell_type": "code",
   "execution_count": 2,
   "metadata": {},
   "outputs": [],
   "source": [
    "submissions = pd.read_pickle(ROOT_PATH + LOAD_DATA_PATH + '/' + 'submissions.pkl')\n",
    "comments = pd.read_pickle(ROOT_PATH + LOAD_DATA_PATH + '/' + 'comments.pkl')\n",
    "comments[['parent_type','parent_id']] = comments['parent_id'].str.split('_',expand=True)"
   ]
  },
  {
   "cell_type": "code",
   "execution_count": 3,
   "metadata": {},
   "outputs": [],
   "source": [
    "comments = comments.query('author != \"[deleted]\"').reset_index(drop=True)"
   ]
  },
  {
   "cell_type": "code",
   "execution_count": 4,
   "metadata": {},
   "outputs": [
    {
     "name": "stdout",
     "output_type": "stream",
     "text": [
      "<class 'pandas.core.frame.DataFrame'>\n",
      "RangeIndex: 290763 entries, 0 to 290762\n",
      "Data columns (total 1 columns):\n",
      "author    290763 non-null object\n",
      "dtypes: object(1)\n",
      "memory usage: 2.2+ MB\n",
      "num_comments: 1232827\n",
      "num_links: 625480\n",
      "total: 1858307\n"
     ]
    }
   ],
   "source": [
    "authors_1 = pd.DataFrame({\n",
    "    'author': submissions['author']\n",
    "})\n",
    "\n",
    "authors_2 = pd.DataFrame({\n",
    "    'author': comments['author']\n",
    "}) \n",
    "\n",
    "authors = pd.concat([authors_1, authors_2]).drop_duplicates().reset_index(drop=True)\n",
    "authors.info()\n",
    "\n",
    "print('num_comments:', comments.query('parent_type==\"t1\"')['parent_type'].count())\n",
    "print('num_links:', comments.query('parent_type==\"t3\"')['parent_type'].count())\n",
    "print('total:', comments['id'].count())\n",
    "\n",
    "#625480"
   ]
  },
  {
   "cell_type": "code",
   "execution_count": 5,
   "metadata": {},
   "outputs": [
    {
     "data": {
      "text/plain": [
       "Index(['author_left', 'author_right', 'score_left', 'id_left', 'id_right',\n",
       "       'subreddit', 'weight', 'type'],\n",
       "      dtype='object')"
      ]
     },
     "execution_count": 5,
     "metadata": {},
     "output_type": "execute_result"
    }
   ],
   "source": [
    "edges_sub = pd.merge(\n",
    "    comments[comments['parent_type'] == 't3'].reset_index(),\n",
    "    submissions, \n",
    "    left_on='parent_id', \n",
    "    right_on='id', \n",
    "    how='left', \n",
    "    suffixes=('_left', '_right')\n",
    ")\n",
    "edges_sub = edges_sub.query('author_left != \"[deleted]\" & author_right != \"[deleted]\"').reset_index(drop=True)\n",
    "edges_sub = edges_sub.query('author_left != author_right').reset_index(drop=True)\n",
    "#print(edges_sub.info())\n",
    "edge_fields_sub = ['author_left', 'author_right', 'score_left', 'id_left', 'id_right', 'subreddit_left']\n",
    "edges_sub = edges_sub[edge_fields_sub]\n",
    "edges_sub['weight'] = edges_sub['score_left']\n",
    "edges_sub['type'] = 'com_on_sub'\n",
    "edges_sub = edges_sub.rename(columns={'subreddit_left': 'subreddit'})\n",
    "edges_sub.columns\n",
    "#edges_sub['subreddit'] = edges_sub['subreddit_left']\n",
    "#edges_sub.drop(['subreddit_left'], axis = 1, inplace = True)"
   ]
  },
  {
   "cell_type": "code",
   "execution_count": 6,
   "metadata": {},
   "outputs": [
    {
     "data": {
      "text/plain": [
       "Index(['author_left', 'author_right', 'score_left', 'id_left', 'id_right',\n",
       "       'subreddit', 'weight', 'type'],\n",
       "      dtype='object')"
      ]
     },
     "execution_count": 6,
     "metadata": {},
     "output_type": "execute_result"
    }
   ],
   "source": [
    "edges_com = pd.merge(\n",
    "    comments[comments['parent_type'] == 't1'].reset_index(), \n",
    "    comments, \n",
    "    left_on='parent_id', \n",
    "    right_on='id', \n",
    "    how='left', \n",
    "    suffixes=('_left', '_right')\n",
    ")\n",
    "\n",
    "edge_fields = ['author_left', 'author_right', 'score_left', 'id_left', 'id_right', 'subreddit_left']\n",
    "edges_com = edges_com[edge_fields]\n",
    "edges_com['weight'] = edges_com['score_left']\n",
    "edges_com['type'] = 'com_on_com'\n",
    "edges_com = edges_com.rename(columns={'subreddit_left': 'subreddit'})\n",
    "edges_com.columns"
   ]
  },
  {
   "cell_type": "code",
   "execution_count": 7,
   "metadata": {},
   "outputs": [
    {
     "name": "stdout",
     "output_type": "stream",
     "text": [
      "    author_left          author_right\n",
      "0    taddraughn  SuperficialPickle444\n",
      "1      Sprint99  SuperficialPickle444\n",
      "2  ianufyrebird  SuperficialPickle444\n",
      "3     Nrimelman  SuperficialPickle444\n",
      "4    Gabe121411  SuperficialPickle444\n",
      "  author_left  author_right\n",
      "0   garlicbot    taddraughn\n",
      "1   garlicbot      Sprint99\n",
      "2   garlicbot  ianufyrebird\n",
      "3   garlicbot           NaN\n",
      "4  taddraughn    taddraughn\n",
      "Index(['author_left', 'author_right', 'score_left', 'id_left', 'id_right',\n",
      "       'subreddit', 'weight', 'type'],\n",
      "      dtype='object')\n",
      "\n",
      "Index(['author_left', 'author_right', 'score_left', 'id_left', 'id_right',\n",
      "       'subreddit', 'weight', 'type'],\n",
      "      dtype='object')\n"
     ]
    }
   ],
   "source": [
    "#edges_com = edges_com[0:10][['author_left', 'author_right']]\n",
    "print(edges_sub[0:5][['author_left', 'author_right']])\n",
    "\n",
    "print(edges_com[0:5][['author_left', 'author_right']])\n",
    "#print(edges_com[['author_left', 'author_right']].query('author_right'))\n",
    "print(edges_sub.columns)\n",
    "print()\n",
    "print(edges_com.columns)\n",
    "#print(comments.sort_values(by='score', ascending=False)[-50:-1]['score'])\n",
    "\n",
    "#comments.subreddit.unique()"
   ]
  },
  {
   "cell_type": "code",
   "execution_count": 8,
   "metadata": {},
   "outputs": [
    {
     "data": {
      "text/plain": [
       "Index(['author', 'subreddit_id', 'subreddit', 'score', 'num_comments', 'id',\n",
       "       'created_utc', 'retrieved_on', 'num_crossposts', 'title', 'url',\n",
       "       'stickied', 'pinned', 'gilded'],\n",
       "      dtype='object')"
      ]
     },
     "execution_count": 8,
     "metadata": {},
     "output_type": "execute_result"
    }
   ],
   "source": [
    "submissions.columns"
   ]
  },
  {
   "cell_type": "code",
   "execution_count": 9,
   "metadata": {},
   "outputs": [
    {
     "name": "stdout",
     "output_type": "stream",
     "text": [
      "Name: \n",
      "Type: MultiDiGraph\n",
      "Number of nodes: 274987\n",
      "Number of edges: 1836658\n",
      "Average in degree:   6.6791\n",
      "Average out degree:   6.6791\n"
     ]
    }
   ],
   "source": [
    "g = nx.from_pandas_dataframe(\n",
    "    pd.concat([edges_sub, edges_com], ignore_index=True), \n",
    "    'author_left', \n",
    "    'author_right', \n",
    "    ['weight', 'score_left', 'id_left', 'id_right', 'subreddit', 'type'], \n",
    "    create_using=nx.MultiDiGraph()\n",
    ")\n",
    "print(nx.info(g))"
   ]
  },
  {
   "cell_type": "code",
   "execution_count": 10,
   "metadata": {},
   "outputs": [
    {
     "name": "stdout",
     "output_type": "stream",
     "text": [
      "--------------------------------------------------\n",
      "                       0         1\n",
      "0   SuperficialPickle444  0.135974\n",
      "1              garlicbot  0.062123\n",
      "2          AutoModerator  0.026521\n",
      "3                    NaN  0.025518\n",
      "4      DigitalizedOrange  0.024274\n",
      "5                   mvea  0.021037\n",
      "6             skyler4722  0.020561\n",
      "7                  tippr  0.020205\n",
      "8                  b1tcc  0.018365\n",
      "9            rBitcoinMod  0.016946\n",
      "10               Z_staff  0.015917\n",
      "11            mungojelly  0.013633\n",
      "12                 fabwa  0.012633\n",
      "13  DestroyerOfShitcoins  0.012313\n",
      "14   Religion__of__Peace  0.010306\n",
      "15              jessquit  0.009971\n",
      "16           remi9martin  0.009237\n",
      "17              rdar1999  0.008830\n",
      "18                 --orb  0.008520\n",
      "19              coin2k17  0.008459\n",
      "20            KnifeOfPi2  0.008437\n",
      "21         unitedstatian  0.008426\n",
      "22              perogies  0.008037\n",
      "23              Fulvio55  0.007706\n",
      "24                speckz  0.007502\n",
      "25   censorship_notifier  0.007019\n",
      "26          Haramburglar  0.006982\n",
      "27                Amidza  0.006379\n",
      "28            BTCMONSTER  0.006357\n",
      "29              Aceionic  0.006182\n",
      "30        btcnewsupdates  0.006091\n",
      "31             Kain_niaK  0.006073\n",
      "32           kevindongyt  0.005997\n",
      "33             LovelyDay  0.005964\n",
      "34            bambarasta  0.005891\n",
      "35           RemindMeBot  0.005862\n",
      "36     ChopBangBuzzDylan  0.005655\n",
      "37             Cthulhooo  0.005651\n",
      "38  2481632641282565121k  0.005586\n",
      "39             Tomatoshi  0.005480\n",
      "40            Bacon_Hero  0.005404\n",
      "41         Brilliantbit8  0.005378\n",
      "42               btcftw1  0.005357\n",
      "43           Tharsis-evo  0.005215\n",
      "44       HudsonRiverLine  0.005182\n",
      "45               stevoli  0.005171\n",
      "46             sodogetip  0.005153\n",
      "47        pixel-gamer-3D  0.005109\n",
      "48              defconoi  0.005091\n",
      "49            arsonbunny  0.005080\n"
     ]
    }
   ],
   "source": [
    "deg_cen = sorted_df(nx.degree_centrality(g))\n",
    "print(50*'-')\n",
    "print(deg_cen[0:50])"
   ]
  },
  {
   "cell_type": "code",
   "execution_count": null,
   "metadata": {},
   "outputs": [],
   "source": [
    "betweenness_cen = sorted_df(nx.betweenness_centrality(g, k=55, weight='weight'))\n",
    "print(50*'-')\n",
    "print(betweenness_cen[0:50])"
   ]
  }
 ],
 "metadata": {
  "kernelspec": {
   "display_name": "Python 3",
   "language": "python",
   "name": "python3"
  },
  "language_info": {
   "codemirror_mode": {
    "name": "ipython",
    "version": 3
   },
   "file_extension": ".py",
   "mimetype": "text/x-python",
   "name": "python",
   "nbconvert_exporter": "python",
   "pygments_lexer": "ipython3",
   "version": "3.6.3"
  }
 },
 "nbformat": 4,
 "nbformat_minor": 2
}
