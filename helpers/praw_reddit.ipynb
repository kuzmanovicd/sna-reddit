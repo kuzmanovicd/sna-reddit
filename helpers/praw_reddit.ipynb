{
 "cells": [
  {
   "cell_type": "code",
   "execution_count": 27,
   "metadata": {},
   "outputs": [],
   "source": [
    "import praw\n",
    "reddit = praw.Reddit(client_id='-hAQ0klyehCTVQ',\n",
    "                     client_secret='nQ4KYg6K4U-u7wpyOrUjPadzwrs',\n",
    "                     user_agent='my user agent')\n",
    "\n",
    "subreddit = reddit.subreddit('bitcoin')\n",
    "\n",
    "submissions = subreddit.hot(limit=10)"
   ]
  },
  {
   "cell_type": "code",
   "execution_count": 28,
   "metadata": {},
   "outputs": [
    {
     "name": "stdout",
     "output_type": "stream",
     "text": [
      "title: Bitcoin transaction fees continue to drop. 30-50 sats/byte now confirmed on the next block.\n",
      "score: 936\n",
      "id: 7ruq1j\n",
      "url: https://twitter.com/ArminVanBitcoin/status/954885719717240832\n",
      "author: acevol\n",
      "title: Segwit adoption jumps to 19%, fees drop down to below 70 sats/byte. its 1 step in the right direction.\n",
      "score: 475\n",
      "id: 7rvjcp\n",
      "url: https://twitter.com/verretor/status/954914110327676928\n",
      "author: funkdrools\n",
      "title: Everyone has to go through the cycle\n",
      "score: 899\n",
      "id: 7rtb5j\n",
      "url: https://i.redd.it/zqqyeikekab01.png\n",
      "author: madd_honey\n",
      "title: Day 9: I will post this guide regularly until available solutions like SegWit, order batching, and Lightning payment channels are mass adopted, the mempool is empty once again, and tx fees are low. Have you done your part?\n",
      "score: 1930\n",
      "id: 7rrb3w\n",
      "url: https://www.reddit.com/r/Bitcoin/comments/7rrb3w/day_9_i_will_post_this_guide_regularly_until/\n",
      "author: Bastiat\n",
      "title: The biggest block ever on Bitcoin was mined today! Size: 2.1MB, Weight: 3993048.\n",
      "score: 880\n",
      "id: 7rstsx\n",
      "url: https://blockchain.info/block-index/1667740/0000000000000000001bbb529c64ddf55edec8f4ebc0a0ccf1d3bb21c278bfa7\n",
      "author: Galarinos\n",
      "title: Bitcoin mempool clearing up. Fees dropping fast. Also a spike in average block size. Spammers finally out of money? Coinbase finally batching and SegWit enabled? What's going on?\n",
      "score: 197\n",
      "id: 7rvjms\n",
      "url: https://twitter.com/bswen/status/954917137499467777\n",
      "author: ningrim\n",
      "title: Bitcoin matters not because it's fast, cheap, or easy; but only because nobody controls it. It grew spontaneously in the wilds of the internet without a central planner. After it, no alt could ever recreate this, as there's no spontaneous market demand for a less secure Bitcoin.\n",
      "score: 93\n",
      "id: 7rwku1\n",
      "url: https://twitter.com/saifedean/status/954935819525152768\n",
      "author: hamerH3a4\n",
      "title: An even bigger block was mined than just a few hours ago! 2.217MB. Segwit is working!\n",
      "score: 327\n",
      "id: 7rudy2\n",
      "url: https://blockchain.info/block/0000000000000000006aa2f22d95f468611794325617b61c29b6abf998e2b912\n",
      "author: cryptowar\n"
     ]
    }
   ],
   "source": [
    "for submission in submissions:\n",
    "    if submission.stickied:\n",
    "        continue\n",
    "    print('title:', submission.title)\n",
    "    print('score:', submission.score)\n",
    "    print('id:', submission.id)\n",
    "    print('url:', submission.url)\n",
    "    print('author:', submission.author)"
   ]
  },
  {
   "cell_type": "raw",
   "metadata": {},
   "source": [
    "['STR_FIELD', '__class__', '__delattr__', '__dict__', '__dir__', '__doc__', '__eq__', '__format__', '__ge__', '__getattr__', '__getattribute__', '__gt__', '__hash__', '__init__', '__init_subclass__', '__le__', '__lt__', '__module__', '__ne__', '__new__', '__reduce__', '__reduce_ex__', '__repr__', '__setattr__', '__sizeof__', '__str__', '__subclasshook__', '__weakref__', '_chunk', '_comments_by_id', '_fetch', '_fetched', '_flair', '_info_params', '_info_path', '_mod', '_reddit', '_reset_attributes', '_safely_add_arguments', '_vote', 'approved_at_utc', 'approved_by', 'archived', 'author', 'author_flair_css_class', 'author_flair_text', 'banned_at_utc', 'banned_by', 'brand_safe', 'can_gild', 'can_mod_post', 'clear_vote', 'clicked', 'comment_limit', 'comment_sort', 'comments', 'contest_mode', 'created', 'created_utc', 'crosspost', 'delete', 'disable_inbox_replies', 'distinguished', 'domain', 'downs', 'downvote', 'duplicates', 'edit', 'edited', 'enable_inbox_replies', 'flair', 'fullname', 'gild', 'gilded', 'hidden', 'hide', 'hide_score', 'id', 'id_from_url', 'is_crosspostable', 'is_reddit_media_domain', 'is_self', 'is_video', 'likes', 'link_flair_css_class', 'link_flair_text', 'locked', 'media', 'media_embed', 'mod', 'mod_note', 'mod_reason_by', 'mod_reason_title', 'mod_reports', 'name', 'num_comments', 'num_crossposts', 'num_reports', 'over_18', 'parent_whitelist_status', 'parse', 'permalink', 'pinned', 'post_hint', 'preview', 'quarantine', 'removal_reason', 'reply', 'report', 'report_reasons', 'save', 'saved', 'score', 'secure_media', 'secure_media_embed', 'selftext', 'selftext_html', 'shortlink', 'spoiler', 'stickied', 'subreddit', 'subreddit_id', 'subreddit_name_prefixed', 'subreddit_type', 'suggested_sort', 'thumbnail', 'thumbnail_height', 'thumbnail_width', 'title', 'unhide', 'unsave', 'ups', 'upvote', 'url', 'user_reports', 'view_count', 'visited', 'whitelist_status']\n",
    "\n",
    "#redditor\n",
    "['STR_FIELD', 'VALID_TIME_FILTERS', '__class__', '__delattr__', '__dict__', '__dir__', '__doc__', '__eq__', '__format__', '__ge__', '__getattr__', '__getattribute__', '__gt__', '__hash__', '__init__', '__init_subclass__', '__le__', '__lt__', '__module__', '__ne__', '__new__', '__reduce__', '__reduce_ex__', '__repr__', '__setattr__', '__sizeof__', '__str__', '__subclasshook__', '__weakref__', '_fetch', '_fetched', '_friend', '_info_params', '_info_path', '_listing_use_sort', '_path', '_reddit', '_reset_attributes', '_safely_add_arguments', '_stream', '_validate_time_filter', 'block', 'comments', 'controversial', 'downvoted', 'friend', 'friend_info', 'from_data', 'fullname', 'gild', 'gilded', 'gildings', 'hidden', 'hot', 'message', 'multireddits', 'name', 'new', 'parse', 'saved', 'stream', 'submissions', 'top', 'unblock', 'unfriend', 'upvoted']"
   ]
  },
  {
   "cell_type": "code",
   "execution_count": 37,
   "metadata": {},
   "outputs": [
    {
     "name": "stdout",
     "output_type": "stream",
     "text": [
      "<bound method Redditor.friend of Redditor(name='acevol')>\n"
     ]
    }
   ],
   "source": [
    "redditor = reddit.redditor('acevol')\n",
    "print(redditor.)\n",
    "hot_r = redditor.hot(limit=10)"
   ]
  },
  {
   "cell_type": "code",
   "execution_count": null,
   "metadata": {},
   "outputs": [],
   "source": [
    "for submission in hot_r:\n",
    "    print(submission.over_18)\n",
    "    print(submission.score)"
   ]
  }
 ],
 "metadata": {
  "kernelspec": {
   "display_name": "Python 3",
   "language": "python",
   "name": "python3"
  },
  "language_info": {
   "codemirror_mode": {
    "name": "ipython",
    "version": 3
   },
   "file_extension": ".py",
   "mimetype": "text/x-python",
   "name": "python",
   "nbconvert_exporter": "python",
   "pygments_lexer": "ipython3",
   "version": "3.6.3"
  }
 },
 "nbformat": 4,
 "nbformat_minor": 2
}
