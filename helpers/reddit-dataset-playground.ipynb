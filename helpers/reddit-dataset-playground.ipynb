{
 "cells": [
  {
   "cell_type": "code",
   "execution_count": 11,
   "metadata": {},
   "outputs": [],
   "source": [
    "%matplotlib notebook\n",
    "import pandas as pd\n",
    "import numpy as np\n",
    "import networkx as nx\n",
    "import matplotlib.pyplot as plt\n",
    "import ijson\n",
    "import time"
   ]
  },
  {
   "cell_type": "code",
   "execution_count": 24,
   "metadata": {},
   "outputs": [],
   "source": [
    "subreddits = pd.read_json('data/reddit/subreddits', lines=True)"
   ]
  },
  {
   "cell_type": "code",
   "execution_count": 4,
   "metadata": {},
   "outputs": [
    {
     "name": "stdout",
     "output_type": "stream",
     "text": [
      "Index(['accounts_active', 'banner_img', 'banner_size',\n",
      "       'collapse_deleted_comments', 'comment_score_hide_mins', 'created_utc',\n",
      "       'description', 'description_html', 'display_name', 'header_img',\n",
      "       'header_size', 'header_title', 'hide_ads', 'icon_img', 'icon_size',\n",
      "       'id', 'key_color', 'lang', 'name', 'over18', 'public_description',\n",
      "       'public_description_html', 'public_traffic', 'quarantine',\n",
      "       'submission_type', 'submit_link_label', 'submit_text',\n",
      "       'submit_text_html', 'submit_text_label', 'subreddit_type',\n",
      "       'subscribers', 'suggested_comment_sort', 'title', 'url',\n",
      "       'wiki_enabled'],\n",
      "      dtype='object')\n"
     ]
    }
   ],
   "source": [
    "print(subreddits.columns)\n",
    "#print(subreddits['url'])"
   ]
  },
  {
   "cell_type": "code",
   "execution_count": 7,
   "metadata": {},
   "outputs": [
    {
     "data": {
      "text/plain": [
       "81289                   /r/bitcoins/\n",
       "96155               /r/ilikebitcoin/\n",
       "96885               /r/bitcoinwatch/\n",
       "97141           /r/bitcoinaustralia/\n",
       "97989                 /r/allbitcoin/\n",
       "98928              /r/dallasbitcoin/\n",
       "101833             /r/bitcoinreview/\n",
       "104139           /r/bitcoinsecurity/\n",
       "108245                 /r/bitcoinEX/\n",
       "131041              /r/bitcoinideas/\n",
       "142233                 /r/bitcoines/\n",
       "153655          /r/bitcoinstripclub/\n",
       "156718            /r/sexybitcoinads/\n",
       "159709       /r/randomactsofbitcoin/\n",
       "161663               /r/bitcoinduit/\n",
       "183269              /r/bitcoinboard/\n",
       "184144              /r/bitcoinsites/\n",
       "201273              /r/bitcoindrama/\n",
       "212471           /r/catsforbitcoins/\n",
       "212502               /r/bitcoinloan/\n",
       "229041                /r/bitcointip/\n",
       "232924                /r/bitcoinotc/\n",
       "235700               /r/testbitcoin/\n",
       "241698              /r/bitcoinmemes/\n",
       "243294            /r/bitcointrading/\n",
       "244138     /r/bitcoinbattlestations/\n",
       "247289           /r/mathforbitcoins/\n",
       "252914               /r/usebitcoins/\n",
       "265459            /r/games4bitcoins/\n",
       "267430            /r/bitcoinfiction/\n",
       "                     ...            \n",
       "1023852       /r/bitcoin_sportsbook/\n",
       "1023892     /r/bitcoin__sportsbooks/\n",
       "1023904        /r/bitcoinsportsbook/\n",
       "1024098      /r/bitcoin_sportsbooks/\n",
       "1030345        /r/bitcoinpuertorico/\n",
       "1031869             /r/bitcoinalpha/\n",
       "1031872            /r/bitcoin_alpha/\n",
       "1032814          /r/bitcoinmarkets2/\n",
       "1035940          /r/satoshisbitcoin/\n",
       "1038231           /r/bitcoinredteam/\n",
       "1038741        /r/future_of_bitcoin/\n",
       "1040031    /r/theyshouldtakebitcoin/\n",
       "1043049                /r/bitcoinvn/\n",
       "1044125             /r/bitcoinsonar/\n",
       "1050137      /r/teachmehowtobitcoin/\n",
       "1054350      /r/bitcoin_censhorship/\n",
       "1054355       /r/bitcoin_censorship/\n",
       "1056182               /r/mybitcoins/\n",
       "1081896       /r/bitcoinrenaissance/\n",
       "1101869            /r/betbybitcoins/\n",
       "1106343              /r/sexybitcoin/\n",
       "1111195                /r/debitcoin/\n",
       "1126811            /r/bitcoinpoolus/\n",
       "1130570        /r/writingforbitcoin/\n",
       "1131245         /r/Photosforbitcoin/\n",
       "1140459     /r/freebitcoinhyperbits/\n",
       "1144618         /r/bitcointranslate/\n",
       "1145324        /r/bitcoinpromotions/\n",
       "1147088          /r/bitcoinofficial/\n",
       "1154230            /r/Retakebitcoin/\n",
       "Name: url, Length: 570, dtype: object"
      ]
     },
     "execution_count": 7,
     "metadata": {},
     "output_type": "execute_result"
    }
   ],
   "source": [
    "subreddits[subreddits['url'].str.contains('bitcoin')]['url']"
   ]
  },
  {
   "cell_type": "code",
   "execution_count": 8,
   "metadata": {},
   "outputs": [
    {
     "data": {
      "text/plain": [
       "117142                  /r/litecoin/\n",
       "252441             /r/litecoinforum/\n",
       "284245               /r/litecointip/\n",
       "287653            /r/litecoinmining/\n",
       "295118                /r/litecoinPT/\n",
       "299146            /r/litecoinmarket/\n",
       "299606           /r/litecointiptest/\n",
       "303662          /r/litecoinportugal/\n",
       "306132             /r/litecoinlotto/\n",
       "308735            /r/jobs4litecoins/\n",
       "309155               /r/LTClitecoin/\n",
       "329608            /r/litecoinbrasil/\n",
       "339572              /r/truelitecoin/\n",
       "345423            /r/litecoinstocks/\n",
       "351089            /r/locallitecoins/\n",
       "351199             /r/localitecoins/\n",
       "361616          /r/ladiesoflitecoin/\n",
       "366639             /r/litecoinpools/\n",
       "376507              /r/litecointest/\n",
       "409674               /r/litecoinbeg/\n",
       "409743        /r/litecoinminingporn/\n",
       "410132                 /r/litecoins/\n",
       "418581             /r/goforlitecoin/\n",
       "419917             /r/litecoinhumor/\n",
       "430811      /r/litecoinforbeginners/\n",
       "434003      /r/litecoinmillionaires/\n",
       "454146            /r/litecoinslotto/\n",
       "472732          /r/litecoinforanewb/\n",
       "519239      /r/litecoin_associatoin/\n",
       "522227          /r/Officiallitecoin/\n",
       "540052     /r/litecoinsurvivalguide/\n",
       "574362           /r/litecoingermany/\n",
       "579901               /r/litecoinaus/\n",
       "612677     /r/litecointestmjbmonmet/\n",
       "621834      /r/litecoinforthemasses/\n",
       "638332              /r/litecoingear/\n",
       "649591             /r/freelitecoins/\n",
       "752362        /r/litecoincirclejerk/\n",
       "860971               /r/litecoinltc/\n",
       "896670              /r/litecointalk/\n",
       "981857        /r/litecoin_unlimited/\n",
       "981873       /r/litecoin_uncensored/\n",
       "989190             /r/litecoinchina/\n",
       "996550                 /r/litecoind/\n",
       "996565           /r/litecoinclassic/\n",
       "1002788         /r/litecoin_classic/\n",
       "Name: url, dtype: object"
      ]
     },
     "execution_count": 8,
     "metadata": {},
     "output_type": "execute_result"
    }
   ],
   "source": [
    "subreddits[subreddits['url'].str.contains('litecoin')]['url']"
   ]
  },
  {
   "cell_type": "code",
   "execution_count": 27,
   "metadata": {},
   "outputs": [
    {
     "data": {
      "text/plain": [
       "544523    3.0\n",
       "Name: subscribers, dtype: float64"
      ]
     },
     "execution_count": 27,
     "metadata": {},
     "output_type": "execute_result"
    }
   ],
   "source": [
    "bitcoins = subreddits[subreddits['url'].str.contains('bitecoin')]\n",
    "bitcoins.sort_values(by=['subscribers'], ascending=False)['subscribers']"
   ]
  },
  {
   "cell_type": "code",
   "execution_count": 4,
   "metadata": {},
   "outputs": [],
   "source": [
    "submissions = pd.read_json('data/reddit/submissions/sample.json', lines=True)\n",
    "comments = pd.read_json('reddit/comments/sample_data.json', lines=True)"
   ]
  },
  {
   "cell_type": "code",
   "execution_count": 6,
   "metadata": {},
   "outputs": [
    {
     "name": "stdout",
     "output_type": "stream",
     "text": [
      "Index(['adserver_click_url', 'adserver_imp_pixel', 'archived', 'author',\n",
      "       'author_cakeday', 'author_flair_css_class', 'author_flair_text',\n",
      "       'author_id', 'brand_safe', 'contest_mode', 'created_utc',\n",
      "       'crosspost_parent', 'crosspost_parent_list', 'disable_comments',\n",
      "       'distinguished', 'domain', 'domain_override', 'edited', 'embed_type',\n",
      "       'embed_url', 'gilded', 'hidden', 'hide_score', 'href_url', 'id',\n",
      "       'imp_pixel', 'is_crosspostable', 'is_reddit_media_domain', 'is_self',\n",
      "       'is_video', 'link_flair_css_class', 'link_flair_text', 'locked',\n",
      "       'media', 'media_embed', 'mobile_ad_url', 'num_comments',\n",
      "       'num_crossposts', 'original_link', 'over_18', 'parent_whitelist_status',\n",
      "       'permalink', 'pinned', 'post_hint', 'preview', 'promoted',\n",
      "       'promoted_by', 'promoted_display_name', 'promoted_url', 'retrieved_on',\n",
      "       'score', 'secure_media', 'secure_media_embed', 'selftext', 'spoiler',\n",
      "       'stickied', 'subreddit', 'subreddit_id', 'suggested_sort',\n",
      "       'third_party_trackers', 'third_party_tracking',\n",
      "       'third_party_tracking_2', 'thumbnail', 'thumbnail_height',\n",
      "       'thumbnail_width', 'title', 'url', 'whitelist_status'],\n",
      "      dtype='object')\n",
      "Index(['author', 'author_cakeday', 'author_flair_css_class',\n",
      "       'author_flair_text', 'body', 'can_gild', 'controversiality',\n",
      "       'created_utc', 'distinguished', 'edited', 'gilded', 'id',\n",
      "       'is_submitter', 'link_id', 'parent_id', 'permalink', 'retrieved_on',\n",
      "       'score', 'stickied', 'subreddit', 'subreddit_id'],\n",
      "      dtype='object')\n"
     ]
    }
   ],
   "source": [
    "print(submissions.columns)\n",
    "print(comments.columns)"
   ]
  },
  {
   "cell_type": "code",
   "execution_count": 25,
   "metadata": {},
   "outputs": [
    {
     "name": "stdout",
     "output_type": "stream",
     "text": [
      "Fri Oct  6 12:32:05 2017\n"
     ]
    }
   ],
   "source": [
    "#print(time.ctime(int(comments['retrieved_on'])))\n",
    "#print(comments[['parent_id', 'subreddit']])\n",
    "\n",
    "print(time.ctime(int(submissions['retrieved_on'][1])))"
   ]
  }
 ],
 "metadata": {
  "kernelspec": {
   "display_name": "Python 3",
   "language": "python",
   "name": "python3"
  },
  "language_info": {
   "codemirror_mode": {
    "name": "ipython",
    "version": 3
   },
   "file_extension": ".py",
   "mimetype": "text/x-python",
   "name": "python",
   "nbconvert_exporter": "python",
   "pygments_lexer": "ipython3",
   "version": "3.6.3"
  }
 },
 "nbformat": 4,
 "nbformat_minor": 2
}
