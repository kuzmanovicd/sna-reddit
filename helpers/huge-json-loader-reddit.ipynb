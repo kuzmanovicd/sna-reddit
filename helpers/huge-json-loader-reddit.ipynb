{
 "cells": [
  {
   "cell_type": "code",
   "execution_count": 44,
   "metadata": {},
   "outputs": [],
   "source": [
    "%matplotlib notebook\n",
    "import pandas as pd\n",
    "import numpy as np\n",
    "import networkx as nx\n",
    "import matplotlib.pyplot as plt\n",
    "import ijson\n",
    "import numpy as np\n",
    "#import ijson.backends.yajl2_cffi as ijson\n",
    "import os"
   ]
  },
  {
   "cell_type": "code",
   "execution_count": 47,
   "metadata": {},
   "outputs": [],
   "source": [
    "fname = r'C:\\Users\\deyan\\tf-workspace\\sn\\data\\reddit\\submissions\\RS_2014-05.json'\n",
    "#fname = r'C:\\Users\\deyan\\tf-workspace\\sn\\data\\reddit\\submissions\\sample.json'\n",
    "\n",
    "df = pd.DataFrame()\n",
    "\n",
    "data = []\n",
    "\n",
    "chunksize = 100   # adjust it! for example --> 10**5\n",
    "for chunk in (pd.read_json(fname, chunksize=chunksize, lines=True)):\n",
    "    df = chunk.groupby('subreddit', as_index=False).sum()\n",
    "    #print(df)\n",
    "    break\n",
    "\n",
    "\n",
    "#df.reset_index().to_csv('c:/temp/result.csv', index=False)\n"
   ]
  },
  {
   "cell_type": "code",
   "execution_count": 48,
   "metadata": {},
   "outputs": [],
   "source": [
    "subreddits = ['bitcoin', 'litecoin']\n",
    "\n",
    "iter_csv = pd.read_json(fname, lines=True, chunksize=10**5)\n",
    "df = pd.concat([chunk[chunk['subreddit'].isin(subreddits)] for chunk in iter_csv])\n",
    "#print(df['subreddit'])"
   ]
  },
  {
   "cell_type": "code",
   "execution_count": 59,
   "metadata": {},
   "outputs": [
    {
     "name": "stdout",
     "output_type": "stream",
     "text": [
      "Index(['adserver_click_url', 'adserver_imp_pixel', 'archived', 'author',\n",
      "       'author_flair_css_class', 'author_flair_text', 'created', 'created_utc',\n",
      "       'disable_comments', 'distinguished', 'domain', 'downs', 'edited',\n",
      "       'from', 'from_id', 'from_kind', 'gilded', 'hide_score', 'href_url',\n",
      "       'id', 'imp_pixel', 'is_self', 'link_flair_css_class', 'link_flair_text',\n",
      "       'media', 'media_embed', 'mobile_ad_url', 'name', 'num_comments',\n",
      "       'over_18', 'permalink', 'post_hint', 'preview', 'promoted',\n",
      "       'quarantine', 'retrieved_on', 'saved', 'score', 'secure_media',\n",
      "       'secure_media_embed', 'selftext', 'stickied', 'subreddit',\n",
      "       'subreddit_id', 'third_party_tracking', 'third_party_tracking_2',\n",
      "       'thumbnail', 'title', 'ups', 'url'],\n",
      "      dtype='object')\n"
     ]
    }
   ],
   "source": [
    "print(df.columns)\n",
    "#df.to_pickle('reddit\\pickles\\litecoin2014-05.pkl')"
   ]
  },
  {
   "cell_type": "code",
   "execution_count": 79,
   "metadata": {},
   "outputs": [
    {
     "name": "stdout",
     "output_type": "stream",
     "text": [
      "             id subreddit                author  score  ups  num_comments\n",
      "986947   250wda  litecoin            litemantoo     54   54           159\n",
      "2767223  264mgy  litecoin      ThatFeel_IKnowIt     42   42           119\n",
      "901703   24z075  litecoin   Dwight_Kurt_Schrute     39   39           116\n",
      "3998998  26w4k8  litecoin             [deleted]      9    9           114\n",
      "2541590  25zkw3  litecoin           TheRealMage    331  331            93\n",
      "2038438  25obk1  litecoin    PUBLIC_SERVICE_ANN    167  167            76\n",
      "3926442  26uhnz  litecoin                kmndln     13   13            63\n",
      "4072640  26xs05  litecoin           TheRealMage     68   68            62\n",
      "3796908  26rlbr  litecoin                 AUAUA     51   51            59\n",
      "3409385  26iz0e  litecoin              mrman505    140  140            56\n",
      "3384469  26iezj  litecoin  privatethoughtexpose      8    8            52\n",
      "2525555  25z828  litecoin               Arogtar    108  108            51\n",
      "1332077  258l3o  litecoin               Arogtar     96   96            48\n",
      "569294   24rku4  litecoin             precrime3     13   13            48\n",
      "1193022  255hl2  litecoin             glasperle     83   83            45\n",
      "3958241  26v7on  litecoin                coblee     65   65            43\n",
      "3529174  26ln18  litecoin             ILikeStyx     11   11            43\n",
      "1028991  251uai  litecoin   Dwight_Kurt_Schrute      0    0            43\n",
      "2448761  25xi83  litecoin        CaptainBeeFart     66   66            42\n",
      "2871640  266y4y  litecoin            diyarbakir      4    4            39\n",
      "2650691  2620rb  litecoin        GlassDickJones     47   47            39\n",
      "2619850  261c26  litecoin     bitbybitbybitcoin    150  150            36\n",
      "3618119  26nlwf  litecoin      SkiingEnthusiast     46   46            35\n",
      "2735440  263ws5  litecoin                karljt     64   64            34\n",
      "1391052  259wf0  litecoin            Pansyfaust     41   41            33\n",
      "2921156  26827v  litecoin             glasperle    102  102            32\n",
      "4148994  26zhwq  litecoin   PoliticalDissidents     41   41            32\n",
      "2002375  25nin9  litecoin                omgeak     11   11            32\n",
      "1922291  25lq9w  litecoin             TransHash     15   15            32\n",
      "771839   24w3yq  litecoin   Dwight_Kurt_Schrute     40   40            31\n",
      "...         ...       ...                   ...    ...  ...           ...\n",
      "759968   24vugb  litecoin             Djnkill99      1    1             0\n",
      "3467006  26k904  litecoin          MONEYMAN1298      4    4             0\n",
      "762524   24vwiq  litecoin            ScryptRigs      3    3             0\n",
      "774393   24w5zx  litecoin              Savilles      2    2             0\n",
      "3423866  26jalq  litecoin       doesitmakesound      5    5             0\n",
      "3392619  26iljn  litecoin          cool_gangsta      3    3             0\n",
      "3391747  26iktq  litecoin    perfectmoneyinvest      1    1             0\n",
      "3391525  26ikne  litecoin             [deleted]      2    2             0\n",
      "827153   24xc37  litecoin           DannyDesert     38   38             0\n",
      "3380476  26ibpq  litecoin            xcoinmoney      2    2             0\n",
      "3374923  26i75e  litecoin          VersaceCobra      1    1             0\n",
      "3367542  26i13t  litecoin             thebitave      5    5             0\n",
      "2369113  25vqa4  litecoin        artfarmartfarm      0    0             0\n",
      "3304193  26gm2y  litecoin             [deleted]      1    1             0\n",
      "3014129  26a4rn  litecoin            kevindunst      1    1             0\n",
      "882567   24ykwo  litecoin              mpalokaj      1    1             0\n",
      "927513   24zkrr  litecoin             [deleted]      0    0             0\n",
      "928984   24zlxz  litecoin             [deleted]      0    0             0\n",
      "3147097  26d3u8  litecoin             [deleted]      1    1             0\n",
      "3144533  26d1qf  litecoin             [deleted]      0    0             0\n",
      "1002004  2518n6  litecoin               giantfo      0    0             0\n",
      "1058551  252hwu  litecoin       FullMetalGurren      6    6             0\n",
      "3086699  26br3g  litecoin             [deleted]      1    1             0\n",
      "3084107  26bp17  litecoin             [deleted]      1    1             0\n",
      "1097409  253cqm  litecoin               evolvup      1    1             0\n",
      "3060074  26b5uq  litecoin             [deleted]      1    1             0\n",
      "1103647  253hpr  litecoin          Inquisitor01      1    1             0\n",
      "1111293  253nsd  litecoin        christianblaze      1    1             0\n",
      "1144811  254ezd  litecoin          brokenarrow8      0    0             0\n",
      "1759     24exj8  litecoin         Grainfromrain      2    2             0\n",
      "\n",
      "[394 rows x 6 columns]\n"
     ]
    }
   ],
   "source": [
    "print(df.sort_values(by=['num_comments'], ascending=False)[['id', 'subreddit', 'author', 'score', 'ups', 'num_comments']])"
   ]
  }
 ],
 "metadata": {
  "kernelspec": {
   "display_name": "Python 3",
   "language": "python",
   "name": "python3"
  },
  "language_info": {
   "codemirror_mode": {
    "name": "ipython",
    "version": 3
   },
   "file_extension": ".py",
   "mimetype": "text/x-python",
   "name": "python",
   "nbconvert_exporter": "python",
   "pygments_lexer": "ipython3",
   "version": "3.6.3"
  }
 },
 "nbformat": 4,
 "nbformat_minor": 2
}
